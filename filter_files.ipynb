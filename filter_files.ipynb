{
  "nbformat": 4,
  "nbformat_minor": 0,
  "metadata": {
    "colab": {
      "name": "filter-files",
      "provenance": [],
      "collapsed_sections": [],
      "authorship_tag": "ABX9TyNZwqQTsuj4nBtMVfmtDl71",
      "include_colab_link": true
    },
    "kernelspec": {
      "name": "python3",
      "display_name": "Python 3"
    },
    "language_info": {
      "name": "python"
    }
  },
  "cells": [
    {
      "cell_type": "markdown",
      "metadata": {
        "id": "view-in-github",
        "colab_type": "text"
      },
      "source": [
        "<a href=\"https://colab.research.google.com/github/khamkarajinkya/Recommender-Practice/blob/main/filter_files.ipynb\" target=\"_parent\"><img src=\"https://colab.research.google.com/assets/colab-badge.svg\" alt=\"Open In Colab\"/></a>"
      ]
    },
    {
      "cell_type": "code",
      "execution_count": null,
      "metadata": {
        "id": "WJVsmjUSLfGv"
      },
      "outputs": [],
      "source": [
        "import pandas as pd\n",
        "from google.colab import drive \n",
        "import logging\n",
        "\n",
        "logger = logging.getLogger(__name__)\n",
        "logger.setLevel(logging.INFO)"
      ]
    },
    {
      "cell_type": "code",
      "source": [
        "#mount drive\n",
        "drive.mount('/content/gdrive')\n",
        "base_path = '/content/gdrive/My Drive/Data/movie-lens/'"
      ],
      "metadata": {
        "colab": {
          "base_uri": "https://localhost:8080/"
        },
        "id": "YicFEaepNqbR",
        "outputId": "0690f980-35de-4153-c8ec-4315ee1b82ab"
      },
      "execution_count": null,
      "outputs": [
        {
          "output_type": "stream",
          "name": "stdout",
          "text": [
            "Mounted at /content/gdrive\n"
          ]
        }
      ]
    },
    {
      "cell_type": "code",
      "source": [
        "'''\n",
        "Get all ids from movie-lens we need to keep from in imdb datasets\n",
        "\n",
        "'''\n",
        "mlens = pd.read_csv(base_path + 'full/link.csv')\n",
        "mlens['imdbId'] = mlens['imdbId'].apply(lambda x : 'tt'+str(x))\n",
        "mlens_indx = mlens.set_index('imdbId').index"
      ],
      "metadata": {
        "id": "2QGndBNhQ_gR"
      },
      "execution_count": null,
      "outputs": []
    },
    {
      "cell_type": "code",
      "source": [
        "'''\n",
        "Read individual imdb datasets and filter to keep only interested columns and movielens id rows\n",
        "'''\n",
        "\n",
        "def filter_(fname,fext, df_indx, filter_indx, cols_to_keep,base_path):\n",
        "  cols_to_keep += [df_indx]\n",
        "  filename = fname + '.' + fext\n",
        "  if fext == 'tsv':\n",
        "    sep = '\\t'\n",
        "  else:\n",
        "    sep = ','\n",
        "  df = pd.read_csv(base_path+'full/'+filename,sep = sep, index_col = df_indx, na_values=[r'\\N'])\n",
        "  df = df[df.index.isin(filter_indx)]\n",
        "  df.reset_index(inplace = True)\n",
        "  df.loc[:, df.columns.isin(cols_to_keep)].to_csv(base_path + 'filtered/' + fname +'.csv', index = False)\n",
        "\n",
        "  logger.info(f'Finished cleaning : {fname}')"
      ],
      "metadata": {
        "id": "7ecBINphVmyS"
      },
      "execution_count": null,
      "outputs": []
    },
    {
      "cell_type": "code",
      "source": [
        "filter_(fname = 'title.akas',fext = 'tsv', df_indx='titleId', filter_indx = mlens_indx, cols_to_keep = ['language'], base_path = base_path)\n",
        "filter_(fname = 'title.basics',fext = 'tsv', df_indx='tconst', filter_indx = mlens_indx, cols_to_keep = ['titleType','isAdult','runtimeMinutes'], base_path = base_path)\n",
        "filter_(fname = 'title.crew',fext = 'tsv', df_indx='tconst', filter_indx = mlens_indx, cols_to_keep = ['directors','writers'], base_path = base_path)\n",
        "filter_(fname = 'title.principals',fext = 'tsv', df_indx='tconst', filter_indx = mlens_indx, cols_to_keep = ['nconst','category','job','characters'], base_path = base_path)\n",
        "filter_(fname = 'title.ratings',fext = 'tsv', df_indx='tconst', filter_indx = mlens_indx, cols_to_keep = ['numVotes'], base_path = base_path)"
      ],
      "metadata": {
        "colab": {
          "base_uri": "https://localhost:8080/"
        },
        "id": "45C7MeZYfSRg",
        "outputId": "4567baf0-bac2-4787-a34f-8c4a72b6f424"
      },
      "execution_count": null,
      "outputs": [
        {
          "output_type": "stream",
          "name": "stderr",
          "text": [
            "/usr/local/lib/python3.7/dist-packages/ipykernel_launcher.py:1: DtypeWarning: Columns (6) have mixed types.Specify dtype option on import or set low_memory=False.\n",
            "  \"\"\"Entry point for launching an IPython kernel.\n",
            "/usr/local/lib/python3.7/dist-packages/ipykernel_launcher.py:2: DtypeWarning: Columns (7) have mixed types.Specify dtype option on import or set low_memory=False.\n",
            "  \n"
          ]
        }
      ]
    },
    {
      "cell_type": "code",
      "source": [
        "akas = pd.read_csv(base_path + 'filtered/title.crew.csv')"
      ],
      "metadata": {
        "id": "xGVKZmkMWEMi"
      },
      "execution_count": null,
      "outputs": []
    },
    {
      "cell_type": "code",
      "source": [
        "akas"
      ],
      "metadata": {
        "colab": {
          "base_uri": "https://localhost:8080/",
          "height": 424
        },
        "id": "-DBn8Ib-XhMK",
        "outputId": "81574ee8-bf80-419a-af96-e1f0a3d0dce3"
      },
      "execution_count": null,
      "outputs": [
        {
          "output_type": "execute_result",
          "data": {
            "text/plain": [
              "         tconst  directors                                            writers\n",
              "0     tt1000764  nm0640337                                          nm0857621\n",
              "1     tt1000771  nm0005366                                          nm0834960\n",
              "2     tt1000774  nm0455078                      nm0455078,nm0124299,nm0823015\n",
              "3     tt1001508  nm0477129            nm0463359,nm0799050,nm1021163,nm0875710\n",
              "4     tt1001526  nm0569891                                nm0774786,nm2523794\n",
              "...         ...        ...                                                ...\n",
              "6420  tt4377918  nm0190389  nm4353173,nm6538572,nm4003020,nm2268581,nm0704289\n",
              "6421  tt4397346  nm0314995                                          nm0314995\n",
              "6422  tt4438688  nm9781362                                          nm1451553\n",
              "6423  tt4475970  nm0994538  nm0994538,nm0004735,nm4476681,nm0411127,nm0506...\n",
              "6424  tt4530184        NaN                                          nm2106637\n",
              "\n",
              "[6425 rows x 3 columns]"
            ],
            "text/html": [
              "\n",
              "  <div id=\"df-6d7087cf-884d-4f07-be34-efd50b7cd245\">\n",
              "    <div class=\"colab-df-container\">\n",
              "      <div>\n",
              "<style scoped>\n",
              "    .dataframe tbody tr th:only-of-type {\n",
              "        vertical-align: middle;\n",
              "    }\n",
              "\n",
              "    .dataframe tbody tr th {\n",
              "        vertical-align: top;\n",
              "    }\n",
              "\n",
              "    .dataframe thead th {\n",
              "        text-align: right;\n",
              "    }\n",
              "</style>\n",
              "<table border=\"1\" class=\"dataframe\">\n",
              "  <thead>\n",
              "    <tr style=\"text-align: right;\">\n",
              "      <th></th>\n",
              "      <th>tconst</th>\n",
              "      <th>directors</th>\n",
              "      <th>writers</th>\n",
              "    </tr>\n",
              "  </thead>\n",
              "  <tbody>\n",
              "    <tr>\n",
              "      <th>0</th>\n",
              "      <td>tt1000764</td>\n",
              "      <td>nm0640337</td>\n",
              "      <td>nm0857621</td>\n",
              "    </tr>\n",
              "    <tr>\n",
              "      <th>1</th>\n",
              "      <td>tt1000771</td>\n",
              "      <td>nm0005366</td>\n",
              "      <td>nm0834960</td>\n",
              "    </tr>\n",
              "    <tr>\n",
              "      <th>2</th>\n",
              "      <td>tt1000774</td>\n",
              "      <td>nm0455078</td>\n",
              "      <td>nm0455078,nm0124299,nm0823015</td>\n",
              "    </tr>\n",
              "    <tr>\n",
              "      <th>3</th>\n",
              "      <td>tt1001508</td>\n",
              "      <td>nm0477129</td>\n",
              "      <td>nm0463359,nm0799050,nm1021163,nm0875710</td>\n",
              "    </tr>\n",
              "    <tr>\n",
              "      <th>4</th>\n",
              "      <td>tt1001526</td>\n",
              "      <td>nm0569891</td>\n",
              "      <td>nm0774786,nm2523794</td>\n",
              "    </tr>\n",
              "    <tr>\n",
              "      <th>...</th>\n",
              "      <td>...</td>\n",
              "      <td>...</td>\n",
              "      <td>...</td>\n",
              "    </tr>\n",
              "    <tr>\n",
              "      <th>6420</th>\n",
              "      <td>tt4377918</td>\n",
              "      <td>nm0190389</td>\n",
              "      <td>nm4353173,nm6538572,nm4003020,nm2268581,nm0704289</td>\n",
              "    </tr>\n",
              "    <tr>\n",
              "      <th>6421</th>\n",
              "      <td>tt4397346</td>\n",
              "      <td>nm0314995</td>\n",
              "      <td>nm0314995</td>\n",
              "    </tr>\n",
              "    <tr>\n",
              "      <th>6422</th>\n",
              "      <td>tt4438688</td>\n",
              "      <td>nm9781362</td>\n",
              "      <td>nm1451553</td>\n",
              "    </tr>\n",
              "    <tr>\n",
              "      <th>6423</th>\n",
              "      <td>tt4475970</td>\n",
              "      <td>nm0994538</td>\n",
              "      <td>nm0994538,nm0004735,nm4476681,nm0411127,nm0506...</td>\n",
              "    </tr>\n",
              "    <tr>\n",
              "      <th>6424</th>\n",
              "      <td>tt4530184</td>\n",
              "      <td>NaN</td>\n",
              "      <td>nm2106637</td>\n",
              "    </tr>\n",
              "  </tbody>\n",
              "</table>\n",
              "<p>6425 rows × 3 columns</p>\n",
              "</div>\n",
              "      <button class=\"colab-df-convert\" onclick=\"convertToInteractive('df-6d7087cf-884d-4f07-be34-efd50b7cd245')\"\n",
              "              title=\"Convert this dataframe to an interactive table.\"\n",
              "              style=\"display:none;\">\n",
              "        \n",
              "  <svg xmlns=\"http://www.w3.org/2000/svg\" height=\"24px\"viewBox=\"0 0 24 24\"\n",
              "       width=\"24px\">\n",
              "    <path d=\"M0 0h24v24H0V0z\" fill=\"none\"/>\n",
              "    <path d=\"M18.56 5.44l.94 2.06.94-2.06 2.06-.94-2.06-.94-.94-2.06-.94 2.06-2.06.94zm-11 1L8.5 8.5l.94-2.06 2.06-.94-2.06-.94L8.5 2.5l-.94 2.06-2.06.94zm10 10l.94 2.06.94-2.06 2.06-.94-2.06-.94-.94-2.06-.94 2.06-2.06.94z\"/><path d=\"M17.41 7.96l-1.37-1.37c-.4-.4-.92-.59-1.43-.59-.52 0-1.04.2-1.43.59L10.3 9.45l-7.72 7.72c-.78.78-.78 2.05 0 2.83L4 21.41c.39.39.9.59 1.41.59.51 0 1.02-.2 1.41-.59l7.78-7.78 2.81-2.81c.8-.78.8-2.07 0-2.86zM5.41 20L4 18.59l7.72-7.72 1.47 1.35L5.41 20z\"/>\n",
              "  </svg>\n",
              "      </button>\n",
              "      \n",
              "  <style>\n",
              "    .colab-df-container {\n",
              "      display:flex;\n",
              "      flex-wrap:wrap;\n",
              "      gap: 12px;\n",
              "    }\n",
              "\n",
              "    .colab-df-convert {\n",
              "      background-color: #E8F0FE;\n",
              "      border: none;\n",
              "      border-radius: 50%;\n",
              "      cursor: pointer;\n",
              "      display: none;\n",
              "      fill: #1967D2;\n",
              "      height: 32px;\n",
              "      padding: 0 0 0 0;\n",
              "      width: 32px;\n",
              "    }\n",
              "\n",
              "    .colab-df-convert:hover {\n",
              "      background-color: #E2EBFA;\n",
              "      box-shadow: 0px 1px 2px rgba(60, 64, 67, 0.3), 0px 1px 3px 1px rgba(60, 64, 67, 0.15);\n",
              "      fill: #174EA6;\n",
              "    }\n",
              "\n",
              "    [theme=dark] .colab-df-convert {\n",
              "      background-color: #3B4455;\n",
              "      fill: #D2E3FC;\n",
              "    }\n",
              "\n",
              "    [theme=dark] .colab-df-convert:hover {\n",
              "      background-color: #434B5C;\n",
              "      box-shadow: 0px 1px 3px 1px rgba(0, 0, 0, 0.15);\n",
              "      filter: drop-shadow(0px 1px 2px rgba(0, 0, 0, 0.3));\n",
              "      fill: #FFFFFF;\n",
              "    }\n",
              "  </style>\n",
              "\n",
              "      <script>\n",
              "        const buttonEl =\n",
              "          document.querySelector('#df-6d7087cf-884d-4f07-be34-efd50b7cd245 button.colab-df-convert');\n",
              "        buttonEl.style.display =\n",
              "          google.colab.kernel.accessAllowed ? 'block' : 'none';\n",
              "\n",
              "        async function convertToInteractive(key) {\n",
              "          const element = document.querySelector('#df-6d7087cf-884d-4f07-be34-efd50b7cd245');\n",
              "          const dataTable =\n",
              "            await google.colab.kernel.invokeFunction('convertToInteractive',\n",
              "                                                     [key], {});\n",
              "          if (!dataTable) return;\n",
              "\n",
              "          const docLinkHtml = 'Like what you see? Visit the ' +\n",
              "            '<a target=\"_blank\" href=https://colab.research.google.com/notebooks/data_table.ipynb>data table notebook</a>'\n",
              "            + ' to learn more about interactive tables.';\n",
              "          element.innerHTML = '';\n",
              "          dataTable['output_type'] = 'display_data';\n",
              "          await google.colab.output.renderOutput(dataTable, element);\n",
              "          const docLink = document.createElement('div');\n",
              "          docLink.innerHTML = docLinkHtml;\n",
              "          element.appendChild(docLink);\n",
              "        }\n",
              "      </script>\n",
              "    </div>\n",
              "  </div>\n",
              "  "
            ]
          },
          "metadata": {},
          "execution_count": 12
        }
      ]
    },
    {
      "cell_type": "code",
      "source": [
        ""
      ],
      "metadata": {
        "id": "JbecFLE9owQR"
      },
      "execution_count": null,
      "outputs": []
    }
  ]
}