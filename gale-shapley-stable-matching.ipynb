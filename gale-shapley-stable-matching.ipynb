{
  "nbformat": 4,
  "nbformat_minor": 0,
  "metadata": {
    "colab": {
      "name": "gale-shapley-stable-matching",
      "provenance": [],
      "collapsed_sections": [],
      "authorship_tag": "ABX9TyOobWuKqgAKbjW4HndCcPwY",
      "include_colab_link": true
    },
    "kernelspec": {
      "name": "python3",
      "display_name": "Python 3"
    },
    "language_info": {
      "name": "python"
    }
  },
  "cells": [
    {
      "cell_type": "markdown",
      "metadata": {
        "id": "view-in-github",
        "colab_type": "text"
      },
      "source": [
        "<a href=\"https://colab.research.google.com/github/khamkarajinkya/Recommender-Practice/blob/main/gale-shapley-stable-matching.ipynb\" target=\"_parent\"><img src=\"https://colab.research.google.com/assets/colab-badge.svg\" alt=\"Open In Colab\"/></a>"
      ]
    },
    {
      "cell_type": "code",
      "source": [
        "import pandas as pd\n",
        "import io "
      ],
      "metadata": {
        "id": "58RHso6bLe5B"
      },
      "execution_count": 1,
      "outputs": []
    },
    {
      "cell_type": "code",
      "execution_count": 2,
      "metadata": {
        "id": "6vY8Mu2YKIQo"
      },
      "outputs": [],
      "source": [
        "e_pref = '''\n",
        "Employee,Programmer,Manager,Marketing,Mechanic,Post-Man,Supervisor\n",
        "Pritz-Brown,3,5,2,1,6,4\n",
        "Sheryl,4,5,3,2,5,1\n",
        "Robin-Hood,1,2,3,5,6,4\n",
        "Charles,5,2,3,4,1,6\n",
        "Andysah,2,5,3,6,4,1\n",
        "Keysha,6,1,4,5,3,2\n",
        "'''\n",
        "\n",
        "c_pref = '''\n",
        "Company,emp1,emp2,emp3,emp4,emp5,emp6\n",
        "Programmer,1,2,4,5,3,6\n",
        "Manager,5,4,2,3,1,6\n",
        "Marketing,4,1,2,5,6,3\n",
        "Mechanic,3,1,6,5,2,4\n",
        "Post-Man,1,6,4,5,3,2\n",
        "Supervisor,2,3,4,6,5,1\n",
        "'''"
      ]
    },
    {
      "cell_type": "code",
      "source": [
        "e_pref = pd.read_csv(io.StringIO(e_pref))\n",
        "c_pref = pd.read_csv(io.StringIO(c_pref)).set_index('Company').T"
      ],
      "metadata": {
        "id": "rBFk-L4bLeAI"
      },
      "execution_count": 3,
      "outputs": []
    },
    {
      "cell_type": "code",
      "source": [
        "e_dict = e_pref.set_index('Employee').T.to_dict('list')\n",
        "c_dict = c_pref.T.to_dict('list')"
      ],
      "metadata": {
        "id": "WN6Ar2AxL23H"
      },
      "execution_count": 4,
      "outputs": []
    },
    {
      "cell_type": "code",
      "source": [
        "pref_score = {}\n",
        "\n",
        "for n, v in e_dict.items():\n",
        "  pref_score[n] = {}\n",
        "  for e, k in c_dict.items():\n",
        "    run_denom = 0\n",
        "    for i in range(len(v)):\n",
        "      run_denom += 1 / (v[i] + k[i])\n",
        "    pref_score[n][e] = len(v) / run_denom\n",
        "  "
      ],
      "metadata": {
        "id": "6ibliV_rL4-d"
      },
      "execution_count": 5,
      "outputs": []
    },
    {
      "cell_type": "code",
      "source": [
        "'''\n",
        "Gale Shapley Algorithm\n",
        "\n",
        "Initialize all m ∈ M and w ∈ W to free\n",
        "  while ∃ m who still has a w to select  {\n",
        "      w = first w on m’s list to whom m has not yet selected\n",
        "      if w is free:\n",
        "        (m, w) paired\n",
        "      else some pair (m', w) already exists\n",
        "      if w prefers m to m'\n",
        "        m' becomes free\n",
        "        (m, w) become paired\n",
        "      else\n",
        "        (m', w) remain paired\n",
        "\n",
        "'''\n",
        "optimal = {}\n",
        "cmp_score = {}\n",
        "cmp_pair = {}\n",
        "emp_avl = list(e_dict.keys())\n",
        "cmp_avl = list(c_dict.keys())\n",
        "\n",
        "while emp_avl and cmp_avl:\n",
        "  for e in emp_avl:\n",
        "    c = max(pref_score[e], key=pref_score[e].get)\n",
        "    #check if prefered company is available \n",
        "    if c in cmp_avl:\n",
        "      '''\n",
        "      1. remove company from list of available\n",
        "      2. add employer e preference as c\n",
        "      3. Set company score c to hs\n",
        "      4. Track current cmp pair for company c to e\n",
        "      '''\n",
        "      cmp_avl.remove(c)\n",
        "      optimal[e] = c\n",
        "      cmp_score[c]  = pref_score[e][c]\n",
        "      cmp_pair[c] = e\n",
        "      emp_avl.remove(e)\n",
        "    else:\n",
        "      #check if employee desirable to company\n",
        "      if cmp_score[c] < pref_score[e][c]:\n",
        "        '''\n",
        "        1. update company score to hs\n",
        "        2. add company c pair back to employee list\n",
        "        3. remove company from available list\n",
        "        4. append old company to available list\n",
        "        5. update optimal list for current employee\n",
        "        '''\n",
        "        optimal.pop(cmp_pair[c])\n",
        "        cmp_score[c] = pref_score[e][c]\n",
        "        emp_avl.append(cmp_pair[c])\n",
        "        optimal[e] = c\n",
        "        emp_avl.remove(e)\n",
        "    print(f'{e} available {list(pref_score[e].keys())} and max {c} with score {pref_score[e][c]} and optimal {optimal}')\n",
        "    pref_score[e].pop(c, None)\n",
        "  print('\\n\\n')"
      ],
      "metadata": {
        "colab": {
          "base_uri": "https://localhost:8080/"
        },
        "id": "C3YLtDfLQQ1n",
        "outputId": "c2317210-0399-49e6-c609-4e0c662a6c1f"
      },
      "execution_count": 6,
      "outputs": [
        {
          "output_type": "stream",
          "name": "stdout",
          "text": [
            "Pritz-Brown available ['emp1', 'emp2', 'emp3', 'emp4', 'emp5', 'emp6'] and max emp4 with score 7.99538505912893 and optimal {'Pritz-Brown': 'emp4'}\n",
            "Robin-Hood available ['emp1', 'emp2', 'emp3', 'emp4', 'emp5', 'emp6'] and max emp4 with score 7.666989351403679 and optimal {'Pritz-Brown': 'emp4'}\n",
            "Charles available ['emp1', 'emp2', 'emp3', 'emp4', 'emp5', 'emp6'] and max emp4 with score 7.632508833922261 and optimal {'Pritz-Brown': 'emp4'}\n",
            "Andysah available ['emp1', 'emp2', 'emp3', 'emp4', 'emp5', 'emp6'] and max emp4 with score 8.133007334963327 and optimal {'Andysah': 'emp4'}\n",
            "Pritz-Brown available ['emp1', 'emp2', 'emp3', 'emp5', 'emp6'] and max emp3 with score 6.640316205533597 and optimal {'Andysah': 'emp4', 'Pritz-Brown': 'emp3'}\n",
            "\n",
            "\n",
            "\n",
            "Sheryl available ['emp1', 'emp2', 'emp3', 'emp4', 'emp5', 'emp6'] and max emp4 with score 8.034006376195537 and optimal {'Andysah': 'emp4', 'Pritz-Brown': 'emp3'}\n",
            "Robin-Hood available ['emp1', 'emp2', 'emp3', 'emp5', 'emp6'] and max emp6 with score 6.891522333637192 and optimal {'Andysah': 'emp4', 'Pritz-Brown': 'emp3', 'Robin-Hood': 'emp6'}\n",
            "Keysha available ['emp1', 'emp2', 'emp3', 'emp4', 'emp5', 'emp6'] and max emp4 with score 7.481108312342569 and optimal {'Andysah': 'emp4', 'Pritz-Brown': 'emp3', 'Robin-Hood': 'emp6'}\n",
            "\n",
            "\n",
            "\n",
            "Sheryl available ['emp1', 'emp2', 'emp3', 'emp5', 'emp6'] and max emp3 with score 6.637401229148376 and optimal {'Andysah': 'emp4', 'Pritz-Brown': 'emp3', 'Robin-Hood': 'emp6'}\n",
            "Charles available ['emp1', 'emp2', 'emp3', 'emp5', 'emp6'] and max emp3 with score 6.242774566473988 and optimal {'Andysah': 'emp4', 'Pritz-Brown': 'emp3', 'Robin-Hood': 'emp6'}\n",
            "Keysha available ['emp1', 'emp2', 'emp3', 'emp5', 'emp6'] and max emp3 with score 5.9974037213327565 and optimal {'Andysah': 'emp4', 'Pritz-Brown': 'emp3', 'Robin-Hood': 'emp6'}\n",
            "\n",
            "\n",
            "\n",
            "Sheryl available ['emp1', 'emp2', 'emp5', 'emp6'] and max emp5 with score 6.235051546391753 and optimal {'Andysah': 'emp4', 'Pritz-Brown': 'emp3', 'Robin-Hood': 'emp6', 'Sheryl': 'emp5'}\n",
            "Keysha available ['emp1', 'emp2', 'emp5', 'emp6'] and max emp2 with score 5.983379501385041 and optimal {'Andysah': 'emp4', 'Pritz-Brown': 'emp3', 'Robin-Hood': 'emp6', 'Sheryl': 'emp5', 'Keysha': 'emp2'}\n",
            "\n",
            "\n",
            "\n",
            "Charles available ['emp1', 'emp2', 'emp5', 'emp6'] and max emp6 with score 6.0990099009901 and optimal {'Andysah': 'emp4', 'Pritz-Brown': 'emp3', 'Robin-Hood': 'emp6', 'Sheryl': 'emp5', 'Keysha': 'emp2'}\n",
            "\n",
            "\n",
            "\n",
            "Charles available ['emp1', 'emp2', 'emp5'] and max emp2 with score 5.920125293657009 and optimal {'Andysah': 'emp4', 'Pritz-Brown': 'emp3', 'Robin-Hood': 'emp6', 'Sheryl': 'emp5', 'Keysha': 'emp2'}\n",
            "\n",
            "\n",
            "\n",
            "Charles available ['emp1', 'emp5'] and max emp5 with score 5.570926143024619 and optimal {'Andysah': 'emp4', 'Pritz-Brown': 'emp3', 'Robin-Hood': 'emp6', 'Sheryl': 'emp5', 'Keysha': 'emp2'}\n",
            "\n",
            "\n",
            "\n",
            "Charles available ['emp1'] and max emp1 with score 4.917073170731707 and optimal {'Andysah': 'emp4', 'Pritz-Brown': 'emp3', 'Robin-Hood': 'emp6', 'Sheryl': 'emp5', 'Keysha': 'emp2', 'Charles': 'emp1'}\n",
            "\n",
            "\n",
            "\n"
          ]
        }
      ]
    },
    {
      "cell_type": "code",
      "source": [
        "optimal"
      ],
      "metadata": {
        "colab": {
          "base_uri": "https://localhost:8080/"
        },
        "id": "SsTON7SxxYV7",
        "outputId": "97d5dfd0-ade4-45ed-d35d-61b62cc40fa8"
      },
      "execution_count": 7,
      "outputs": [
        {
          "output_type": "execute_result",
          "data": {
            "text/plain": [
              "{'Andysah': 'emp4',\n",
              " 'Charles': 'emp1',\n",
              " 'Keysha': 'emp2',\n",
              " 'Pritz-Brown': 'emp3',\n",
              " 'Robin-Hood': 'emp6',\n",
              " 'Sheryl': 'emp5'}"
            ]
          },
          "metadata": {},
          "execution_count": 7
        }
      ]
    },
    {
      "cell_type": "code",
      "source": [
        ""
      ],
      "metadata": {
        "id": "O9Ah-uMiMpWK"
      },
      "execution_count": null,
      "outputs": []
    }
  ]
}